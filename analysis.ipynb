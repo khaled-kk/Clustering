{
  "nbformat": 4,
  "nbformat_minor": 0,
  "metadata": {
    "colab": {
      "provenance": [],
      "authorship_tag": "ABX9TyOucONAWeBENt259oUwxDhs",
      "include_colab_link": true
    },
    "kernelspec": {
      "name": "python3",
      "display_name": "Python 3"
    },
    "language_info": {
      "name": "python"
    }
  },
  "cells": [
    {
      "cell_type": "markdown",
      "metadata": {
        "id": "view-in-github",
        "colab_type": "text"
      },
      "source": [
        "<a href=\"https://colab.research.google.com/github/khaled-kk/Clustering/blob/main/analysis.ipynb\" target=\"_parent\"><img src=\"https://colab.research.google.com/assets/colab-badge.svg\" alt=\"Open In Colab\"/></a>"
      ]
    },
    {
      "cell_type": "code",
      "source": [
        "import pandas as pd\n",
        "import numpy as np\n",
        "import random as rd\n",
        "import matplotlib.pyplot as plt\n",
        "import time\n",
        "from sklearn.cluster import KMeans"
      ],
      "metadata": {
        "id": "J6s6WRO3XszA"
      },
      "execution_count": null,
      "outputs": []
    },
    {
      "cell_type": "code",
      "source": [
        "# Step 1 read the data from CSV file\n",
        "data= pd.read_csv(r\"group3.csv\", delimiter=',', header=None, skiprows=1, names=['height','weight','body mass','shoulders','lenght of arms'])\n",
        "\n",
        "# Step 2 genrate the normalized data\n",
        "data=(data-data.mean())/data.std()\n",
        "\n",
        "# Step 3  define the data name and set the sample number\n",
        "N = data[['height','weight','body mass','shoulders','lenght of arms']]\n",
        "S=[1000,2000,3000,4000]\n",
        "running_time = []\n",
        "for sample in S:\n",
        "  start_time=time.time()\n",
        "  N = data.sample(sample)\n",
        "  # Step 4  Choose the number of clusters (k)\n",
        "  #K=3\n",
        "  K=5\n",
        "\n",
        "  # Step 5 select random centroid for each cluster\n",
        "  Centroids = (N.sample(n=K))\n",
        "  print(sample,Centroids)\n",
        "\n",
        "  # Step 6 - Assign all the points to the closest cluster centroid\n",
        "  # Step 7 - Recompute centroids of newly formed clusters\n",
        "  # Step 8 - Repeat step 6 and 7\n",
        "  diff = 1\n",
        "  j=0\n",
        "\n",
        "  while(diff!=0):\n",
        "      XD=N\n",
        "      i=1\n",
        "      for index1,row_c in Centroids.iterrows():\n",
        "          ED=[]\n",
        "          for index2,row_d in XD.iterrows():\n",
        "              d1=(row_c[\"height\"]-row_d[\"height\"])**2\n",
        "              d2=(row_c[\"weight\"]-row_d[\"weight\"])**2\n",
        "              d3=(row_c[\"body mass\"]-row_d[\"body mass\"])**2\n",
        "              d4=(row_c[\"shoulders\"]-row_d[\"shoulders\"])**2\n",
        "              d5=(row_c[\"lenght of arms\"]-row_d[\"lenght of arms\"])**2\n",
        "              d=np.sqrt(d1+d2+d2+d3+d4+d5)\n",
        "              ED.append(d)\n",
        "          N[i]=ED\n",
        "          i=i+1\n",
        "\n",
        "      C=[]\n",
        "      i=0\n",
        "      for index,row in N.iterrows():\n",
        "          min_dist=row[1]\n",
        "          pos=1\n",
        "          for i in range(K):\n",
        "              if row[i+1] < min_dist:\n",
        "                  min_dist = row[i+1]\n",
        "                  pos=i+1\n",
        "          C.append(pos)\n",
        "      N[\"Cluster\"]=C\n",
        "\n",
        "      Centroids_new = N.groupby([\"Cluster\"]).mean()[[\"height\",\"weight\",\"body mass\",\"shoulders\",\"lenght of arms\"]]\n",
        "      if j == 0:\n",
        "          diff=1\n",
        "          j=j+1\n",
        "      else:\n",
        "          diff = (Centroids_new['height'] - Centroids['height']).sum()+(Centroids_new['weight'] - Centroids['weight']).sum()+(Centroids_new['body mass'] - Centroids['body mass']).sum()+(Centroids_new['shoulders'] - Centroids['shoulders']).sum()+(Centroids_new['lenght of arms'] - Centroids['lenght of arms']).sum()\n",
        "\n",
        "      Centroids = N.groupby([\"Cluster\"]).mean()[[\"height\",\"weight\",\"body mass\",\"shoulders\",\"lenght of arms\"]]\n",
        "\n",
        "  end_time=time.time()\n",
        "  running_time.append(end_time - start_time)\n",
        "\n",
        "print(\"N=\",S)\n",
        "print(\"running time\",running_time)\n",
        "plt.plot(running_time,S)\n",
        "plt.show()"
      ],
      "metadata": {
        "colab": {
          "base_uri": "https://localhost:8080/",
          "height": 716
        },
        "id": "nrbpOfxpEv0v",
        "outputId": "46d5c68f-bcaa-4ff0-a28b-2b66fd7c8931"
      },
      "execution_count": null,
      "outputs": [
        {
          "output_type": "stream",
          "name": "stdout",
          "text": [
            "1000          height    weight  body mass  shoulders  lenght of arms\n",
            "13384 -0.978935 -1.788507  -1.602963  -1.882231       -0.988242\n",
            "90676 -1.115173  0.596256   1.273572   0.705782       -0.977648\n",
            "80564  1.222713  0.252277  -0.305910   0.418763        1.240420\n",
            "41930 -1.574727 -1.214810  -0.651364  -1.218916       -1.539856\n",
            "93353  1.693045  1.084225   0.342862   1.057938        1.810270\n",
            "2000          height    weight  body mass  shoulders  lenght of arms\n",
            "79485  0.560642  0.221190  -0.020276   0.092820        0.381917\n",
            "95588  1.236840  1.447169   0.940643   1.369935        1.308443\n",
            "72064 -1.018689  0.378704   0.967909   0.384846       -0.933964\n",
            "84132  0.326984  1.007713   0.978200   1.068614        0.433133\n",
            "59395  1.465860  2.192167   1.612294   2.365178        1.553796\n",
            "3000          height    weight  body mass  shoulders  lenght of arms\n",
            "89705  1.333734 -0.304131  -0.919429  -0.237178        1.238938\n",
            "95754  0.661777  0.865608   0.635606   0.785061        0.723594\n",
            "87606  1.360833 -0.663507  -1.291736  -0.618861        1.237260\n",
            "37349 -1.339014  0.176658   0.930153   0.084590       -1.244350\n",
            "97033  0.674943 -0.003846  -0.340108   0.058007        0.679380\n",
            "4000          height    weight  body mass  shoulders  lenght of arms\n",
            "2539   1.237221 -0.601770  -1.176713  -0.547144        1.251285\n",
            "98151  0.107555  0.002603  -0.030771   0.028151        0.141233\n",
            "5416  -0.211515  0.474393   0.614237   0.478034       -0.124111\n",
            "95508 -0.221609 -0.684412  -0.681161  -0.593188       -0.213897\n",
            "20074 -1.669198 -1.222110  -0.603305  -1.199837       -1.559488\n",
            "N= [1000, 2000, 3000, 4000]\n",
            "running time [24.47299885749817, 30.227572202682495, 64.5336401462555, 61.974266052246094]\n"
          ]
        },
        {
          "output_type": "display_data",
          "data": {
            "text/plain": [
              "<Figure size 432x288 with 1 Axes>"
            ],
            "image/png": "[encoded data removed]"
          },
          "metadata": {
            "needs_background": "light"
          }
        }
      ]
    },
    {
      "cell_type": "code",
      "source": [
        "def PCA(X , num_components):\n",
        "\n",
        "    #Step-1\n",
        "    X_meaned = X - np.mean(X , axis = 0)\n",
        "\n",
        "    #Step-2\n",
        "    cov_mat = np.cov(X_meaned , rowvar = False)\n",
        "\n",
        "    #Step-3\n",
        "    eigen_values , eigen_vectors = np.linalg.eigh(cov_mat)\n",
        "\n",
        "\n",
        "    #Step-4\n",
        "    sorted_index = np.argsort(eigen_values)[::-1]\n",
        "    sorted_eigenvalue = eigen_values[sorted_index]\n",
        "    sorted_eigenvectors = eigen_vectors[:,sorted_index]\n",
        "\n",
        "    #Step-5\n",
        "    eigenvector_subset = sorted_eigenvectors[:,0:num_components]\n",
        "\n",
        "    #Step-6\n",
        "    X_reduced = np.dot(eigenvector_subset.transpose() , X_meaned.transpose() ).transpose()\n",
        "\n",
        "    return X_reduced"
      ],
      "metadata": {
        "id": "C_Z6K-ZGTEPP"
      },
      "execution_count": null,
      "outputs": []
    },
    {
      "cell_type": "code",
      "source": [
        "# Step 1 read the data from CSV file\n",
        "data= pd.read_csv(r\"group3.csv\", delimiter=',', header=None, skiprows=1, names=['height','weight','body mass','shoulders','lenght of arms'])\n",
        "\n",
        "# Step 2 genrate the normalized data\n",
        "data=(data-data.mean())/data.std()\n",
        "\n",
        "# Step 3  define the data name and set the sample number\n",
        "N = data[['height','weight','body mass','shoulders','lenght of arms']]\n",
        "\n",
        "# Step 4  Choose the number of clusters (k)\n",
        "#K=3\n",
        "K=5\n",
        "\n",
        "mat_reduced = PCA(N, 2)\n",
        "\n",
        "mat_reduced2 = pd.DataFrame(mat_reduced, columns=[\"X\", \"Y\"])\n",
        "\n",
        "# Step 5 select random centroid for each cluster\n",
        "Centroids = (mat_reduced2.sample(n=K))\n",
        "print(Centroids)\n",
        "\n",
        "mat_reduced3=mat_reduced2.sample(1000)\n",
        "\n",
        "\n",
        "diff = 1\n",
        "j=0\n",
        "\n",
        "while(diff!=0):\n",
        "    XD=mat_reduced3\n",
        "    i=1\n",
        "    for index1,row_c in Centroids.iterrows():\n",
        "        ED=[]\n",
        "        for index2,row_d in XD.iterrows():\n",
        "            d1=(row_c[\"X\"]-row_d[\"X\"])**2\n",
        "            d2=(row_c[\"Y\"]-row_d[\"Y\"])**2\n",
        "            d=np.sqrt(d1+d2)\n",
        "            ED.append(d)\n",
        "        mat_reduced3[i]=ED\n",
        "        i=i+1\n",
        "\n",
        "    C=[]\n",
        "    for index,row in mat_reduced3.iterrows():\n",
        "        min_dist=row[1]\n",
        "        pos=1\n",
        "\n",
        "        for i in range(K):\n",
        "            if row[i+1] < min_dist:\n",
        "                min_dist = row[i+1]\n",
        "                pos=i+1\n",
        "        C.append(pos)\n",
        "    mat_reduced3[\"Cluster\"]=C\n",
        "\n",
        "    Centroids_new = mat_reduced3.groupby([\"Cluster\"]).mean()[[\"X\",\"Y\"]]\n",
        "    if j == 0:\n",
        "        diff=1\n",
        "        j=j+1\n",
        "    else:\n",
        "        diff = (Centroids_new['X'] - Centroids['X']).sum() + (Centroids_new['Y'] - Centroids['Y']).sum()\n",
        "    Centroids = mat_reduced3.groupby([\"Cluster\"]).mean()[[\"X\",\"Y\"]]\n",
        "\n",
        "\n",
        "color=['red','green','cyan','blue','purple']\n",
        "for k in range(K):\n",
        "    data=mat_reduced3[mat_reduced3[\"Cluster\"]==k+1]\n",
        "    plt.scatter(data[\"X\"],data[\"Y\"],c=color[k])\n",
        "    print(\"Size of Cluster\",k, \"=\",  (data.size/mat_reduced3.size)*100, \"%\")\n",
        "\n",
        "color2=[\"black\"]\n",
        "plt.scatter(Centroids[\"X\"],Centroids[\"Y\"],c=color2[0])\n",
        "plt.xlabel('H')\n",
        "plt.ylabel('W')\n",
        "plt.show()"
      ],
      "metadata": {
        "id": "44xpL_HSTGEc",
        "colab": {
          "base_uri": "https://localhost:8080/",
          "height": 470
        },
        "outputId": "12fefad1-95bf-407a-bb14-f0563625e6bf"
      },
      "execution_count": null,
      "outputs": [
        {
          "output_type": "stream",
          "name": "stdout",
          "text": [
            "              X         Y\n",
            "22357 -2.630608  0.195736\n",
            "60913 -1.916973 -1.487223\n",
            "95142 -1.339370  0.333462\n",
            "44489  0.515958  0.136833\n",
            "76991 -0.124164  0.951358\n",
            "Size of Cluster 0 = 15.299999999999999 %\n",
            "Size of Cluster 1 = 25.0 %\n",
            "Size of Cluster 2 = 15.0 %\n",
            "Size of Cluster 3 = 23.200000000000003 %\n",
            "Size of Cluster 4 = 21.5 %\n"
          ]
        },
        {
          "output_type": "display_data",
          "data": {
            "text/plain": [
              "<Figure size 432x288 with 1 Axes>"
            ],
            "image/png": "[encoded data removed]"
          },
          "metadata": {
            "needs_background": "light"
          }
        }
      ]
    }
  ]
}